{
 "cells": [
  {
   "cell_type": "code",
   "execution_count": 31,
   "metadata": {},
   "outputs": [
    {
     "name": "stdout",
     "output_type": "stream",
     "text": [
      "{'Python': [10, 10, 10]}\n"
     ]
    }
   ],
   "source": [
    "class Student:\n",
    "    def __init__(self, name, surname, gender):\n",
    "        self.name = name\n",
    "        self.surname = surname\n",
    "        self.gender = gender\n",
    "        self.finished_courses = []\n",
    "        self.courses_in_progress = []\n",
    "        self.grades = {}\n",
    " \n",
    "    def add_courses(self, course_name):\n",
    "        self.finished_course.append(course_name)   \n",
    " \n",
    "     \n",
    "class Mentor:\n",
    "    def __init__(self, name, surname):\n",
    "        self.name = name\n",
    "        self.surname = surname\n",
    "        self.courses_attached = []\n",
    "        \n",
    "    def rate_hw(self, student, course, grade):\n",
    "        if isinstance(student, Student) and course in self.courses_attached and course in student.courses_in_progress:\n",
    "            if course in student.grades:\n",
    "                student.grades[course] += [grade]\n",
    "            else:\n",
    "                student.grades[course] = [grade]\n",
    "        else:\n",
    "            return 'Ошибка'\n",
    " \n",
    "best_student = Student('Ruoy', 'Eman', 'your_gender')\n",
    "best_student.courses_in_progress += ['Python']\n",
    " \n",
    "cool_mentor = Mentor('Some', 'Buddy')\n",
    "cool_mentor.courses_attached += ['Python']\n",
    " \n",
    "cool_mentor.rate_hw(best_student, 'Python', 10)\n",
    "cool_mentor.rate_hw(best_student, 'Python', 10)\n",
    "cool_mentor.rate_hw(best_student, 'Python', 10)\n",
    " \n",
    "print(best_student.grades)"
   ]
  },
  {
   "cell_type": "code",
   "execution_count": 30,
   "metadata": {},
   "outputs": [
    {
     "name": "stdout",
     "output_type": "stream",
     "text": [
      "{'Python': [10, 10, 10]}\n"
     ]
    }
   ],
   "source": [
    "class Student:\n",
    "    def __init__(self, name, surname, gender):\n",
    "        self.name = name\n",
    "        self.surname = surname\n",
    "        self.gender = gender\n",
    "        self.finished_courses = []\n",
    "        self.courses_in_progress = []\n",
    "        self.grades = {}\n",
    " \n",
    "    def add_courses(self, course_name):\n",
    "        self.finished_course.append(course_name)   \n",
    " \n",
    "     \n",
    "class Mentor:\n",
    "    def __init__(self, name, surname):\n",
    "        self.name = name\n",
    "        self.surname = surname\n",
    "        self.courses_attached = []\n",
    "        \n",
    "    def rate_hw(self, student, course, grade):\n",
    "        if isinstance(student, Student) and course in self.courses_attached and course in student.courses_in_progress:\n",
    "            if course in student.grades:\n",
    "                student.grades[course] += [grade]\n",
    "            else:\n",
    "                student.grades[course] = [grade]\n",
    "        else:\n",
    "            return 'Ошибка'\n",
    " \n",
    "best_student = Student('Ruoy', 'Eman', 'your_gender')\n",
    "best_student.courses_in_progress += ['Python']\n",
    " \n",
    "cool_mentor = Mentor('Some', 'Buddy')\n",
    "cool_mentor.courses_attached += ['Python']\n",
    " \n",
    "cool_mentor.rate_hw(best_student, 'Python', 10)\n",
    "cool_mentor.rate_hw(best_student, 'Python', 10)\n",
    "cool_mentor.rate_hw(best_student, 'Python', 10)\n",
    " \n",
    "print(best_student.grades)"
   ]
  }
 ],
 "metadata": {
  "kernelspec": {
   "display_name": "Python 3.9.7 ('base')",
   "language": "python",
   "name": "python3"
  },
  "language_info": {
   "codemirror_mode": {
    "name": "ipython",
    "version": 3
   },
   "file_extension": ".py",
   "mimetype": "text/x-python",
   "name": "python",
   "nbconvert_exporter": "python",
   "pygments_lexer": "ipython3",
   "version": "3.9.7"
  },
  "orig_nbformat": 4,
  "vscode": {
   "interpreter": {
    "hash": "580ca8ae5ccb920c522466289a7f94e83760a817977725bc2e09af5f3a8eb557"
   }
  }
 },
 "nbformat": 4,
 "nbformat_minor": 2
}
